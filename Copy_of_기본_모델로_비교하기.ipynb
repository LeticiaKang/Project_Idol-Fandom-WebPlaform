{
  "cells": [
    {
      "cell_type": "markdown",
      "metadata": {
        "id": "view-in-github",
        "colab_type": "text"
      },
      "source": [
        "<a href=\"https://colab.research.google.com/github/LeticiaKang/HappyVirus/blob/Leticia/Copy_of_%EA%B8%B0%EB%B3%B8_%EB%AA%A8%EB%8D%B8%EB%A1%9C_%EB%B9%84%EA%B5%90%ED%95%98%EA%B8%B0.ipynb\" target=\"_parent\"><img src=\"https://colab.research.google.com/assets/colab-badge.svg\" alt=\"Open In Colab\"/></a>"
      ]
    },
    {
      "cell_type": "code",
      "execution_count": null,
      "metadata": {
        "colab": {
          "base_uri": "https://localhost:8080/"
        },
        "id": "4z9OIVMjnTtC",
        "outputId": "d359a3d3-7f70-4c60-ee72-f9d989b0790c"
      },
      "outputs": [
        {
          "output_type": "stream",
          "name": "stdout",
          "text": [
            "Mounted at /content/drive\n"
          ]
        }
      ],
      "source": [
        "from google.colab import drive\n",
        "drive.mount('/content/drive')"
      ]
    },
    {
      "cell_type": "code",
      "execution_count": null,
      "metadata": {
        "id": "r0v6XmGendhD"
      },
      "outputs": [],
      "source": [
        "import tensorflow as tf\n",
        "import tensorflow.keras as k\n",
        "from tensorflow.keras.preprocessing import image\n",
        "\n",
        "from tensorflow.keras.applications.inception_resnet_v2 import InceptionResNetV2\n",
        "from tensorflow.keras.applications.efficientnet_v2 import EfficientNetV2S\n",
        "from tensorflow.keras.applications.xception import Xception\n",
        "from tensorflow.keras.applications import MobileNetV3Small\n",
        "from tensorflow.keras.applications.resnet50 import ResNet50\n",
        "\n",
        "from tensorflow.keras.models import Model\n",
        "import tensorflow.keras.layers as layers\n",
        "from tensorflow.keras.layers import Dense, GlobalAveragePooling2D\n",
        "from tensorflow.keras.optimizers import Adam\n",
        "import numpy as np\n",
        "\n",
        "from tensorflow.keras.preprocessing.image import ImageDataGenerator\n",
        "\n",
        "from time import perf_counter, sleep"
      ]
    },
    {
      "cell_type": "code",
      "source": [
        "# Data augmentation\n",
        "def augmentation(target_size, batch_size, class_mode=\"categorical\"):\n",
        "  # print(\"start\")\n",
        "  train_datagen = ImageDataGenerator(rescale = 1./255,\n",
        "                                    shear_range = 0.2,\n",
        "                                    zoom_range = 0.2,\n",
        "                                    rotation_range=120, \n",
        "                                    horizontal_flip = True)\n",
        "\n",
        "  test_datagen = ImageDataGenerator(rescale = 1./255)\n",
        "\n",
        "  # Generate training and test sets\n",
        "  train_set = train_datagen.flow_from_directory(r'/content/drive/MyDrive/테스트용/train',\n",
        "                                                  target_size = (target_size,target_size),\n",
        "                                                  batch_size = batch_size,\n",
        "                                                  class_mode = 'categorical')\n",
        "\n",
        "  test_set = test_datagen.flow_from_directory(r'/content/drive/MyDrive/테스트용/test',\n",
        "                                              target_size = (target_size,target_size),                                              # target_size = (299,299),\n",
        "                                              batch_size = batch_size,\n",
        "                                              class_mode = 'categorical')\n",
        "\n",
        "  val_set = test_datagen.flow_from_directory(r'/content/drive/MyDrive/테스트용/val',\n",
        "                                              target_size = (target_size,target_size),\n",
        "                                              batch_size = batch_size,\n",
        "                                              class_mode = 'categorical')\n",
        "  # print(\"end\")\n",
        "  print(\"================================================================================================================\")\n",
        "  return train_set, test_set,val_set \n",
        "\n"
      ],
      "metadata": {
        "id": "C1-6vYs4Uhdc"
      },
      "execution_count": null,
      "outputs": []
    },
    {
      "cell_type": "markdown",
      "source": [
        "def for_resnet_50"
      ],
      "metadata": {
        "id": "9PGLAIn7lFxk"
      }
    },
    {
      "cell_type": "code",
      "source": [
        "\n",
        "\n",
        "def for_resnet_50(base_model, \n",
        "                  epoch = 50, optimizer = Adam(lr=1e-6), class_num = 8, pool_size = (7,7)):\n",
        "  \n",
        "  train_set, test_set,val_set = augmentation(target_size, batch_size, class_mode=\"categorical\")\n",
        "\n",
        "  # freezen the layers\n",
        "  for layer in base_model.layers:\n",
        "      layer.trainable = False\n",
        "\n",
        "  # Add a GlobalAveragePooling layer\n",
        "  x = base_model.output\n",
        "  x = layers.AveragePooling2D(pool_size = pool_size)(x)  # ★change\n",
        "  x = layers.Flatten()(x)\n",
        "  x = layers.Dropout(0.5)(x)\n",
        "  # fix a number of classes\n",
        "  predictions = Dense(class_num, activation='softmax')(x) # ★change\n",
        "\n",
        "  # compile the model\n",
        "  model = Model(inputs=base_model.input, outputs=predictions)\n",
        "  model.compile(\n",
        "    optimizer = optimizer, # ★change\n",
        "    loss='categorical_crossentropy',\n",
        "    metrics=['accuracy']\n",
        "  )\n",
        "\n",
        "  # fit the model\n",
        "  start = perf_counter()\n",
        "  history = model.fit(train_set, epochs = epoch, validation_data = val_set) # ★change # ★change # ★change\n",
        "  end = perf_counter()\n",
        "\n",
        "  # print the learning time\n",
        "  print(f\"Time : {end-start}\")\n",
        "\n",
        "  result_graph(history, model, test_set)"
      ],
      "metadata": {
        "colab": {
          "base_uri": "https://localhost:8080/"
        },
        "id": "rqr1BVOiVvmn",
        "outputId": "0e8a7617-6310-43fb-b3e8-4add9fab4dfb"
      },
      "execution_count": null,
      "outputs": [
        {
          "output_type": "stream",
          "name": "stderr",
          "text": [
            "WARNING:absl:`lr` is deprecated, please use `learning_rate` instead, or use the legacy optimizer, e.g.,tf.keras.optimizers.legacy.Adam.\n"
          ]
        }
      ]
    },
    {
      "cell_type": "markdown",
      "source": [
        "## def result_graph(history):"
      ],
      "metadata": {
        "id": "1Rx44gq5yzmh"
      }
    },
    {
      "cell_type": "code",
      "source": [
        "def result_graph(history, model, test_set):\n",
        "   # show the graph of train and validation loss/acc \n",
        "  import matplotlib.pyplot as plt\n",
        "  fig, loss = plt.subplots()\n",
        "\n",
        "  acc = loss.twinx()\n",
        "\n",
        "  loss.plot(history.history['loss'], 'y', label='train loss')\n",
        "  loss.plot(history.history['val_loss'], 'r', label='val loss')\n",
        "\n",
        "  acc.plot(history.history['accuracy'], 'b', label='train acc')\n",
        "  acc.plot(history.history['val_accuracy'], 'g', label='val acc')\n",
        "\n",
        "  loss.set_xlabel('epoch')\n",
        "  loss.set_ylabel('loss')\n",
        "  acc.set_ylabel('accuray')\n",
        "\n",
        "  loss.legend(loc='upper left')\n",
        "  acc.legend(loc='lower left')\n",
        "\n",
        "  plt.grid()\n",
        "  plt.show()\n",
        "  print(\"================================================================================================================\")\n",
        "\n",
        "  # Evaluate the model on the test set\n",
        "  result= model.evaluate_generator(test_set) #test_loss, test_acc # ★change\n",
        "  print('loss:', round(result[0]))\n",
        "  print('accuracy:', round(result[1], 5))"
      ],
      "metadata": {
        "id": "oyErbkx1rz0w"
      },
      "execution_count": null,
      "outputs": []
    },
    {
      "cell_type": "markdown",
      "source": [
        "## def Inception_V3"
      ],
      "metadata": {
        "id": "aUuGgTLvr7PB"
      }
    },
    {
      "cell_type": "code",
      "source": [
        "def for_Inception_V3(base_model, epoch = 50, target_size = 299, batch_size = 16,\n",
        "                     optimizer =\"adma\", class_num = 8):\n",
        "  \n",
        "  train_set, test_set,val_set = augmentation(target_size, batch_size, class_mode=\"categorical\")\n",
        "\n",
        "  # freezen the layers\n",
        "  for layer in base_model.layers:\n",
        "      layer.trainable = False\n",
        "\n",
        "  # Add a GlobalAveragePooling layer\n",
        "  x = base_model.output\n",
        "  x = layers.GlobalAveragePooling2D()(x)\n",
        "  x = layers.Dense(1024, activation='relu')(x)\n",
        "  x = layers.Dropout(0.2)(x)\n",
        "  predictions = Dense(class_num, activation='softmax')(x) # ★change\n",
        "\n",
        "  # compile the model\n",
        "  model = Model(inputs=base_model.input, outputs=predictions)\n",
        "  model.compile(\n",
        "    optimizer = optimizer, # ★change\n",
        "    loss='categorical_crossentropy',\n",
        "    metrics=['accuracy']\n",
        "  )\n",
        "\n",
        "  # fit the model\n",
        "  start = perf_counter()\n",
        "  history = model.fit(train_set, epochs = epoch, validation_data = val_set) # ★change # ★change # ★change\n",
        "  end = perf_counter()\n",
        "\n",
        "  # print the learning time\n",
        "  print(f\"Time : {end-start}\")\n",
        "\n",
        "  result_graph(history, model, test_set)\n",
        "\n",
        "  return history, model, test_set"
      ],
      "metadata": {
        "id": "lK0EDzcgr6jU"
      },
      "execution_count": null,
      "outputs": []
    },
    {
      "cell_type": "markdown",
      "source": [
        "## Resnet50"
      ],
      "metadata": {
        "id": "2z9AKcgHSmA5"
      }
    },
    {
      "cell_type": "code",
      "source": [
        "train_set, test_set,val_set = augmentation(224, 64, class_mode=\"categorical\")\n",
        "\n",
        "input_tensor = tf.keras.layers.Input(shape=(224, 224, 3))\n",
        "\n",
        "base_model = ResNet50(weights='imagenet', include_top=False,input_tensor=input_tensor)\n",
        "\n",
        "for_resnet_50(base_model, epoch = 50, optimizer = Adam(lr=0.0001), class_num = 8, pool_size = (7,7))\n"
      ],
      "metadata": {
        "id": "XaV4Wc9g33iD",
        "colab": {
          "base_uri": "https://localhost:8080/",
          "height": 1000
        },
        "outputId": "3321ac2e-1d5f-448c-8190-653aec63d7c6"
      },
      "execution_count": null,
      "outputs": [
        {
          "output_type": "stream",
          "name": "stdout",
          "text": [
            "Found 221 images belonging to 8 classes.\n",
            "Found 73 images belonging to 8 classes.\n",
            "Found 73 images belonging to 8 classes.\n",
            "================================================================================================================\n"
          ]
        },
        {
          "output_type": "stream",
          "name": "stderr",
          "text": [
            "WARNING:absl:`lr` is deprecated, please use `learning_rate` instead, or use the legacy optimizer, e.g.,tf.keras.optimizers.legacy.Adam.\n"
          ]
        },
        {
          "output_type": "stream",
          "name": "stdout",
          "text": [
            "Epoch 1/50\n",
            "4/4 [==============================] - 17s 4s/step - loss: 2.4618 - accuracy: 0.1357 - val_loss: 2.0738 - val_accuracy: 0.1096\n",
            "Epoch 2/50\n",
            "4/4 [==============================] - 11s 3s/step - loss: 2.3730 - accuracy: 0.1176 - val_loss: 2.0940 - val_accuracy: 0.1370\n",
            "Epoch 3/50\n",
            "4/4 [==============================] - 11s 3s/step - loss: 2.3858 - accuracy: 0.1222 - val_loss: 2.0915 - val_accuracy: 0.1781\n",
            "Epoch 4/50\n",
            "4/4 [==============================] - 11s 3s/step - loss: 2.3835 - accuracy: 0.1131 - val_loss: 2.0690 - val_accuracy: 0.2055\n",
            "Epoch 5/50\n",
            "4/4 [==============================] - 11s 3s/step - loss: 2.3149 - accuracy: 0.1493 - val_loss: 2.0640 - val_accuracy: 0.1781\n",
            "Epoch 6/50\n",
            "4/4 [==============================] - 11s 3s/step - loss: 2.2918 - accuracy: 0.1176 - val_loss: 2.0688 - val_accuracy: 0.1370\n",
            "Epoch 7/50\n",
            "4/4 [==============================] - 11s 3s/step - loss: 2.1699 - accuracy: 0.1448 - val_loss: 2.0604 - val_accuracy: 0.1507\n",
            "Epoch 8/50\n",
            "4/4 [==============================] - 11s 3s/step - loss: 2.1905 - accuracy: 0.1538 - val_loss: 2.0503 - val_accuracy: 0.1644\n",
            "Epoch 9/50\n",
            "4/4 [==============================] - 11s 3s/step - loss: 2.2171 - accuracy: 0.1222 - val_loss: 2.0465 - val_accuracy: 0.1644\n",
            "Epoch 10/50\n",
            "4/4 [==============================] - 10s 3s/step - loss: 2.1701 - accuracy: 0.1674 - val_loss: 2.0441 - val_accuracy: 0.2055\n",
            "Epoch 11/50\n",
            "4/4 [==============================] - 11s 3s/step - loss: 2.1566 - accuracy: 0.1357 - val_loss: 2.0438 - val_accuracy: 0.2466\n",
            "Epoch 12/50\n",
            "4/4 [==============================] - 10s 3s/step - loss: 2.1662 - accuracy: 0.1584 - val_loss: 2.0433 - val_accuracy: 0.1781\n",
            "Epoch 13/50\n",
            "4/4 [==============================] - 11s 2s/step - loss: 2.1142 - accuracy: 0.1629 - val_loss: 2.0446 - val_accuracy: 0.1507\n",
            "Epoch 14/50\n",
            "4/4 [==============================] - 11s 3s/step - loss: 2.1609 - accuracy: 0.1448 - val_loss: 2.0465 - val_accuracy: 0.1918\n",
            "Epoch 15/50\n",
            "4/4 [==============================] - 11s 3s/step - loss: 2.1330 - accuracy: 0.1357 - val_loss: 2.0424 - val_accuracy: 0.2466\n",
            "Epoch 16/50\n",
            "4/4 [==============================] - 11s 3s/step - loss: 2.1282 - accuracy: 0.1493 - val_loss: 2.0377 - val_accuracy: 0.2329\n",
            "Epoch 17/50\n",
            "4/4 [==============================] - 11s 3s/step - loss: 2.1388 - accuracy: 0.1719 - val_loss: 2.0381 - val_accuracy: 0.1370\n",
            "Epoch 18/50\n",
            "4/4 [==============================] - 11s 3s/step - loss: 2.0813 - accuracy: 0.1946 - val_loss: 2.0379 - val_accuracy: 0.1370\n",
            "Epoch 19/50\n",
            "4/4 [==============================] - 11s 3s/step - loss: 2.0753 - accuracy: 0.1403 - val_loss: 2.0363 - val_accuracy: 0.1781\n",
            "Epoch 20/50\n",
            "4/4 [==============================] - 11s 3s/step - loss: 2.1127 - accuracy: 0.1584 - val_loss: 2.0357 - val_accuracy: 0.1644\n",
            "Epoch 21/50\n",
            "4/4 [==============================] - 11s 3s/step - loss: 2.0792 - accuracy: 0.1584 - val_loss: 2.0386 - val_accuracy: 0.1370\n",
            "Epoch 22/50\n",
            "4/4 [==============================] - 11s 3s/step - loss: 2.0571 - accuracy: 0.1855 - val_loss: 2.0342 - val_accuracy: 0.1507\n",
            "Epoch 23/50\n",
            "4/4 [==============================] - 11s 3s/step - loss: 2.0761 - accuracy: 0.1448 - val_loss: 2.0288 - val_accuracy: 0.2192\n",
            "Epoch 24/50\n",
            "4/4 [==============================] - 10s 3s/step - loss: 2.0701 - accuracy: 0.1267 - val_loss: 2.0293 - val_accuracy: 0.2055\n",
            "Epoch 25/50\n",
            "4/4 [==============================] - 10s 3s/step - loss: 2.0837 - accuracy: 0.1448 - val_loss: 2.0314 - val_accuracy: 0.1918\n",
            "Epoch 26/50\n",
            "4/4 [==============================] - 11s 3s/step - loss: 2.0620 - accuracy: 0.1946 - val_loss: 2.0305 - val_accuracy: 0.2192\n",
            "Epoch 27/50\n",
            "4/4 [==============================] - 11s 3s/step - loss: 2.0278 - accuracy: 0.1900 - val_loss: 2.0293 - val_accuracy: 0.1781\n",
            "Epoch 28/50\n",
            "4/4 [==============================] - 11s 3s/step - loss: 2.0554 - accuracy: 0.1629 - val_loss: 2.0273 - val_accuracy: 0.2055\n",
            "Epoch 29/50\n",
            "4/4 [==============================] - 11s 3s/step - loss: 2.0541 - accuracy: 0.1765 - val_loss: 2.0309 - val_accuracy: 0.2192\n",
            "Epoch 30/50\n",
            "4/4 [==============================] - 11s 3s/step - loss: 2.0577 - accuracy: 0.1810 - val_loss: 2.0341 - val_accuracy: 0.2329\n",
            "Epoch 31/50\n",
            "4/4 [==============================] - 10s 3s/step - loss: 2.0219 - accuracy: 0.1946 - val_loss: 2.0290 - val_accuracy: 0.2329\n",
            "Epoch 32/50\n",
            "4/4 [==============================] - 11s 3s/step - loss: 2.0120 - accuracy: 0.1765 - val_loss: 2.0257 - val_accuracy: 0.2603\n",
            "Epoch 33/50\n",
            "4/4 [==============================] - 11s 3s/step - loss: 2.0470 - accuracy: 0.1538 - val_loss: 2.0266 - val_accuracy: 0.2192\n",
            "Epoch 34/50\n",
            "4/4 [==============================] - 11s 3s/step - loss: 2.0371 - accuracy: 0.1900 - val_loss: 2.0245 - val_accuracy: 0.1781\n",
            "Epoch 35/50\n",
            "4/4 [==============================] - 11s 3s/step - loss: 2.0224 - accuracy: 0.1584 - val_loss: 2.0226 - val_accuracy: 0.1918\n",
            "Epoch 36/50\n",
            "4/4 [==============================] - 11s 3s/step - loss: 2.0452 - accuracy: 0.1629 - val_loss: 2.0272 - val_accuracy: 0.2329\n",
            "Epoch 37/50\n",
            "4/4 [==============================] - 11s 3s/step - loss: 2.0030 - accuracy: 0.1900 - val_loss: 2.0319 - val_accuracy: 0.1918\n",
            "Epoch 38/50\n",
            "4/4 [==============================] - 10s 3s/step - loss: 2.0063 - accuracy: 0.1765 - val_loss: 2.0310 - val_accuracy: 0.1918\n",
            "Epoch 39/50\n",
            "4/4 [==============================] - 10s 3s/step - loss: 2.0118 - accuracy: 0.1991 - val_loss: 2.0250 - val_accuracy: 0.2192\n",
            "Epoch 40/50\n",
            "4/4 [==============================] - 10s 3s/step - loss: 2.0244 - accuracy: 0.1719 - val_loss: 2.0254 - val_accuracy: 0.2055\n",
            "Epoch 41/50\n",
            "4/4 [==============================] - 11s 3s/step - loss: 2.0158 - accuracy: 0.1855 - val_loss: 2.0250 - val_accuracy: 0.2055\n",
            "Epoch 42/50\n",
            "4/4 [==============================] - 10s 3s/step - loss: 2.0038 - accuracy: 0.1765 - val_loss: 2.0241 - val_accuracy: 0.1918\n",
            "Epoch 43/50\n",
            "4/4 [==============================] - 11s 3s/step - loss: 1.9759 - accuracy: 0.2308 - val_loss: 2.0261 - val_accuracy: 0.2192\n",
            "Epoch 44/50\n",
            "4/4 [==============================] - 11s 3s/step - loss: 1.9916 - accuracy: 0.2127 - val_loss: 2.0260 - val_accuracy: 0.2055\n",
            "Epoch 45/50\n",
            "4/4 [==============================] - 11s 3s/step - loss: 2.0063 - accuracy: 0.1900 - val_loss: 2.0268 - val_accuracy: 0.2055\n",
            "Epoch 46/50\n",
            "4/4 [==============================] - 11s 3s/step - loss: 1.9940 - accuracy: 0.1946 - val_loss: 2.0268 - val_accuracy: 0.2055\n",
            "Epoch 47/50\n",
            "4/4 [==============================] - 11s 3s/step - loss: 1.9808 - accuracy: 0.2308 - val_loss: 2.0266 - val_accuracy: 0.1781\n",
            "Epoch 48/50\n",
            "4/4 [==============================] - 11s 3s/step - loss: 1.9997 - accuracy: 0.2127 - val_loss: 2.0276 - val_accuracy: 0.2055\n",
            "Epoch 49/50\n",
            "4/4 [==============================] - 11s 3s/step - loss: 2.0086 - accuracy: 0.1765 - val_loss: 2.0255 - val_accuracy: 0.2055\n",
            "Epoch 50/50\n",
            "4/4 [==============================] - 11s 3s/step - loss: 2.0308 - accuracy: 0.1674 - val_loss: 2.0251 - val_accuracy: 0.2329\n",
            "Time : 538.7546549570006\n"
          ]
        },
        {
          "output_type": "display_data",
          "data": {
            "text/plain": [
              "<Figure size 432x288 with 2 Axes>"
            ],
            "image/png": "[encoded data removed]"
          },
          "metadata": {
            "needs_background": "light"
          }
        },
        {
          "output_type": "stream",
          "name": "stdout",
          "text": [
            "================================================================================================================\n"
          ]
        },
        {
          "output_type": "stream",
          "name": "stderr",
          "text": [
            "<ipython-input-54-229e9c2e83fe>:60: UserWarning: `Model.evaluate_generator` is deprecated and will be removed in a future version. Please use `Model.evaluate`, which supports generators.\n",
            "  result= model.evaluate_generator(test_set) #test_loss, test_acc # ★change\n"
          ]
        },
        {
          "output_type": "stream",
          "name": "stdout",
          "text": [
            "loss: 2\n",
            "accuracy: 0.20548\n"
          ]
        }
      ]
    },
    {
      "cell_type": "markdown",
      "source": [
        "## InceptionV3"
      ],
      "metadata": {
        "id": "CEyAovxTqm7I"
      }
    },
    {
      "cell_type": "code",
      "source": [
        "# from tensorflow.keras.applications.xception import Xception\n",
        "from tensorflow.keras.applications import InceptionV3"
      ],
      "metadata": {
        "id": "On6haOcKUU0G"
      },
      "execution_count": null,
      "outputs": []
    },
    {
      "cell_type": "code",
      "source": [
        "def for_Inception_V3(base_model, epoch = 50, target_size = 299, batch_size = 16,\n",
        "                     optimizer =\"adma\", class_num = 8):\n",
        "  \n",
        "  train_set, test_set,val_set = augmentation(target_size, batch_size, class_mode=\"categorical\")\n",
        "\n",
        "  # freezen the layers\n",
        "  for layer in base_model.layers:\n",
        "      layer.trainable = False\n",
        "\n",
        "  # Add a GlobalAveragePooling layer\n",
        "  x = base_model.output\n",
        "  x = layers.GlobalAveragePooling2D()(x)\n",
        "  x = layers.Dense(1024, activation='relu')(x)\n",
        "  x = layers.Dropout(0.2)(x)\n",
        "  predictions = Dense(class_num, activation='softmax')(x) # ★change\n",
        "\n",
        "  # compile the model\n",
        "  model = Model(inputs=base_model.input, outputs=predictions)\n",
        "  model.compile(\n",
        "    optimizer = optimizer, # ★change\n",
        "    loss='categorical_crossentropy',\n",
        "    metrics=['accuracy']\n",
        "  )\n",
        "\n",
        "  # fit the model\n",
        "  start = perf_counter()\n",
        "  history = model.fit(train_set, epochs = epoch, validation_data = val_set) # ★change # ★change # ★change\n",
        "  end = perf_counter()\n",
        "\n",
        "  # print the learning time\n",
        "  print(f\"Time : {end-start}\")\n",
        "\n",
        "  result_graph(history, model, test_set)\n",
        "\n",
        "  return history, model, test_set"
      ],
      "metadata": {
        "id": "l0mUG3oOA9IC"
      },
      "execution_count": null,
      "outputs": []
    },
    {
      "cell_type": "code",
      "source": [
        "input_tensor = tf.keras.layers.Input(shape=(299, 299, 3))\n",
        "\n",
        "base_model = InceptionV3(weights='imagenet', include_top=False,input_tensor=input_tensor)\n",
        "\n",
        "history, model, test_set = for_Inception_V3(base_model ,  epoch = 50, target_size = 299, batch_size = 16,\n",
        "                                             optimizer = \"adam\", class_num = 8)         #Adam(lr=0.001)"
      ],
      "metadata": {
        "id": "ElqclQ2qoANP",
        "colab": {
          "base_uri": "https://localhost:8080/",
          "height": 1000
        },
        "outputId": "2033309c-376a-4832-868b-f5f2a3965f79"
      },
      "execution_count": null,
      "outputs": [
        {
          "output_type": "stream",
          "name": "stdout",
          "text": [
            "Found 221 images belonging to 8 classes.\n",
            "Found 73 images belonging to 8 classes.\n",
            "Found 73 images belonging to 8 classes.\n",
            "================================================================================================================\n",
            "Epoch 1/50\n",
            "14/14 [==============================] - 20s 1s/step - loss: 3.2217 - accuracy: 0.2081 - val_loss: 1.9292 - val_accuracy: 0.3288\n",
            "Epoch 2/50\n",
            "14/14 [==============================] - 15s 1s/step - loss: 1.4255 - accuracy: 0.5158 - val_loss: 1.2256 - val_accuracy: 0.6164\n",
            "Epoch 3/50\n",
            "14/14 [==============================] - 14s 1s/step - loss: 1.1387 - accuracy: 0.5928 - val_loss: 0.9386 - val_accuracy: 0.7123\n",
            "Epoch 4/50\n",
            "14/14 [==============================] - 14s 1s/step - loss: 0.8333 - accuracy: 0.7240 - val_loss: 0.8990 - val_accuracy: 0.6438\n",
            "Epoch 5/50\n",
            "14/14 [==============================] - 15s 1s/step - loss: 0.6735 - accuracy: 0.7873 - val_loss: 0.7788 - val_accuracy: 0.7397\n",
            "Epoch 6/50\n",
            "14/14 [==============================] - 15s 1s/step - loss: 0.5624 - accuracy: 0.8235 - val_loss: 0.8954 - val_accuracy: 0.6849\n",
            "Epoch 7/50\n",
            "14/14 [==============================] - 14s 1s/step - loss: 0.4750 - accuracy: 0.8462 - val_loss: 0.6664 - val_accuracy: 0.8082\n",
            "Epoch 8/50\n",
            "14/14 [==============================] - 14s 1s/step - loss: 0.4449 - accuracy: 0.8552 - val_loss: 0.6907 - val_accuracy: 0.7534\n",
            "Epoch 9/50\n",
            "14/14 [==============================] - 15s 1s/step - loss: 0.4275 - accuracy: 0.8643 - val_loss: 0.6606 - val_accuracy: 0.7260\n",
            "Epoch 10/50\n",
            "14/14 [==============================] - 15s 1s/step - loss: 0.4010 - accuracy: 0.8733 - val_loss: 0.7296 - val_accuracy: 0.7260\n",
            "Epoch 11/50\n",
            "14/14 [==============================] - 14s 1s/step - loss: 0.3800 - accuracy: 0.8959 - val_loss: 0.8018 - val_accuracy: 0.6986\n",
            "Epoch 12/50\n",
            "14/14 [==============================] - 14s 1s/step - loss: 0.3310 - accuracy: 0.9095 - val_loss: 0.6070 - val_accuracy: 0.7945\n",
            "Epoch 13/50\n",
            "14/14 [==============================] - 14s 1s/step - loss: 0.2521 - accuracy: 0.9321 - val_loss: 0.5839 - val_accuracy: 0.8082\n",
            "Epoch 14/50\n",
            "14/14 [==============================] - 14s 1s/step - loss: 0.2887 - accuracy: 0.9367 - val_loss: 0.5453 - val_accuracy: 0.8219\n",
            "Epoch 15/50\n",
            "14/14 [==============================] - 14s 1s/step - loss: 0.2281 - accuracy: 0.9457 - val_loss: 0.5586 - val_accuracy: 0.8630\n",
            "Epoch 16/50\n",
            "14/14 [==============================] - 15s 1s/step - loss: 0.3093 - accuracy: 0.9005 - val_loss: 0.6105 - val_accuracy: 0.7945\n",
            "Epoch 17/50\n",
            "14/14 [==============================] - 15s 1s/step - loss: 0.2507 - accuracy: 0.9186 - val_loss: 0.5761 - val_accuracy: 0.8630\n",
            "Epoch 18/50\n",
            "14/14 [==============================] - 15s 1s/step - loss: 0.2099 - accuracy: 0.9321 - val_loss: 0.6855 - val_accuracy: 0.7808\n",
            "Epoch 19/50\n",
            "14/14 [==============================] - 15s 1s/step - loss: 0.3061 - accuracy: 0.8733 - val_loss: 0.5308 - val_accuracy: 0.8356\n",
            "Epoch 20/50\n",
            "14/14 [==============================] - 15s 1s/step - loss: 0.2468 - accuracy: 0.9050 - val_loss: 0.6601 - val_accuracy: 0.7397\n",
            "Epoch 21/50\n",
            "14/14 [==============================] - 15s 1s/step - loss: 0.1742 - accuracy: 0.9593 - val_loss: 0.5287 - val_accuracy: 0.8082\n",
            "Epoch 22/50\n",
            "14/14 [==============================] - 14s 1s/step - loss: 0.1885 - accuracy: 0.9412 - val_loss: 0.7411 - val_accuracy: 0.7534\n",
            "Epoch 23/50\n",
            "14/14 [==============================] - 14s 1s/step - loss: 0.2132 - accuracy: 0.9231 - val_loss: 0.8072 - val_accuracy: 0.7534\n",
            "Epoch 24/50\n",
            "14/14 [==============================] - 15s 1s/step - loss: 0.2988 - accuracy: 0.9095 - val_loss: 0.5918 - val_accuracy: 0.7945\n",
            "Epoch 25/50\n",
            "14/14 [==============================] - 14s 1s/step - loss: 0.1923 - accuracy: 0.9412 - val_loss: 0.8189 - val_accuracy: 0.7123\n",
            "Epoch 26/50\n",
            "14/14 [==============================] - 14s 1s/step - loss: 0.1179 - accuracy: 0.9683 - val_loss: 0.6187 - val_accuracy: 0.7945\n",
            "Epoch 27/50\n",
            "14/14 [==============================] - 14s 1s/step - loss: 0.0842 - accuracy: 0.9864 - val_loss: 0.6275 - val_accuracy: 0.7260\n",
            "Epoch 28/50\n",
            "14/14 [==============================] - 14s 1s/step - loss: 0.0911 - accuracy: 0.9910 - val_loss: 0.5952 - val_accuracy: 0.7945\n",
            "Epoch 29/50\n",
            "14/14 [==============================] - 14s 1s/step - loss: 0.0826 - accuracy: 0.9729 - val_loss: 0.5837 - val_accuracy: 0.7808\n",
            "Epoch 30/50\n",
            "14/14 [==============================] - 14s 1s/step - loss: 0.1227 - accuracy: 0.9593 - val_loss: 0.6349 - val_accuracy: 0.7534\n",
            "Epoch 31/50\n",
            "14/14 [==============================] - 14s 1s/step - loss: 0.0770 - accuracy: 0.9774 - val_loss: 0.6056 - val_accuracy: 0.8219\n",
            "Epoch 32/50\n",
            "14/14 [==============================] - 15s 1s/step - loss: 0.0770 - accuracy: 0.9864 - val_loss: 0.4909 - val_accuracy: 0.8356\n",
            "Epoch 33/50\n",
            "14/14 [==============================] - 14s 1s/step - loss: 0.0692 - accuracy: 0.9864 - val_loss: 0.5218 - val_accuracy: 0.8082\n",
            "Epoch 34/50\n",
            "14/14 [==============================] - 14s 1s/step - loss: 0.0764 - accuracy: 0.9774 - val_loss: 0.6512 - val_accuracy: 0.7534\n",
            "Epoch 35/50\n",
            "14/14 [==============================] - 14s 1s/step - loss: 0.1519 - accuracy: 0.9548 - val_loss: 0.4993 - val_accuracy: 0.8904\n",
            "Epoch 36/50\n",
            "14/14 [==============================] - 15s 1s/step - loss: 0.1301 - accuracy: 0.9593 - val_loss: 0.7917 - val_accuracy: 0.7397\n",
            "Epoch 37/50\n",
            "14/14 [==============================] - 14s 1s/step - loss: 0.1010 - accuracy: 0.9774 - val_loss: 0.5467 - val_accuracy: 0.8082\n",
            "Epoch 38/50\n",
            "14/14 [==============================] - 14s 1s/step - loss: 0.1615 - accuracy: 0.9457 - val_loss: 1.0178 - val_accuracy: 0.7123\n",
            "Epoch 39/50\n",
            "14/14 [==============================] - 14s 1s/step - loss: 0.1451 - accuracy: 0.9457 - val_loss: 0.7251 - val_accuracy: 0.7397\n",
            "Epoch 40/50\n",
            "14/14 [==============================] - 14s 1s/step - loss: 0.0921 - accuracy: 0.9729 - val_loss: 0.7043 - val_accuracy: 0.7671\n",
            "Epoch 41/50\n",
            "14/14 [==============================] - 14s 1s/step - loss: 0.0828 - accuracy: 0.9819 - val_loss: 0.6053 - val_accuracy: 0.8082\n",
            "Epoch 42/50\n",
            "14/14 [==============================] - 14s 1s/step - loss: 0.0774 - accuracy: 0.9774 - val_loss: 0.6336 - val_accuracy: 0.7808\n",
            "Epoch 43/50\n",
            "14/14 [==============================] - 14s 1s/step - loss: 0.0809 - accuracy: 0.9819 - val_loss: 0.8966 - val_accuracy: 0.6986\n",
            "Epoch 44/50\n",
            "14/14 [==============================] - 14s 1s/step - loss: 0.0799 - accuracy: 0.9819 - val_loss: 0.6581 - val_accuracy: 0.7808\n",
            "Epoch 45/50\n",
            "14/14 [==============================] - 14s 1s/step - loss: 0.1553 - accuracy: 0.9367 - val_loss: 0.5496 - val_accuracy: 0.8082\n",
            "Epoch 46/50\n",
            "14/14 [==============================] - 14s 1s/step - loss: 0.1115 - accuracy: 0.9638 - val_loss: 0.5976 - val_accuracy: 0.8356\n",
            "Epoch 47/50\n",
            "14/14 [==============================] - 14s 1s/step - loss: 0.1030 - accuracy: 0.9729 - val_loss: 0.6390 - val_accuracy: 0.7808\n",
            "Epoch 48/50\n",
            "14/14 [==============================] - 14s 1s/step - loss: 0.1167 - accuracy: 0.9683 - val_loss: 0.7142 - val_accuracy: 0.7671\n",
            "Epoch 49/50\n",
            "14/14 [==============================] - 14s 1s/step - loss: 0.1224 - accuracy: 0.9638 - val_loss: 0.6729 - val_accuracy: 0.8082\n",
            "Epoch 50/50\n",
            "14/14 [==============================] - 14s 1s/step - loss: 0.0725 - accuracy: 0.9729 - val_loss: 0.6566 - val_accuracy: 0.7671\n",
            "Time : 729.4137037\n"
          ]
        },
        {
          "output_type": "display_data",
          "data": {
            "text/plain": [
              "<Figure size 432x288 with 2 Axes>"
            ],
            "image/png": "[encoded data removed]"
          },
          "metadata": {
            "needs_background": "light"
          }
        },
        {
          "output_type": "stream",
          "name": "stdout",
          "text": [
            "================================================================================================================\n"
          ]
        },
        {
          "output_type": "stream",
          "name": "stderr",
          "text": [
            "<ipython-input-40-53204e64e21b>:26: UserWarning: `Model.evaluate_generator` is deprecated and will be removed in a future version. Please use `Model.evaluate`, which supports generators.\n",
            "  result= model.evaluate_generator(test_set) #test_loss, test_acc # ★change\n"
          ]
        },
        {
          "output_type": "stream",
          "name": "stdout",
          "text": [
            "loss: 0\n",
            "accuracy: 0.87671\n"
          ]
        }
      ]
    },
    {
      "cell_type": "markdown",
      "source": [
        "Inception - try2"
      ],
      "metadata": {
        "id": "3E_Dhu45BmvM"
      }
    },
    {
      "cell_type": "code",
      "source": [
        "def for_Inception_V3(base_model, epoch = 50, target_size = 299, batch_size = 16,\n",
        "                     optimizer =\"adma\", class_num = 8):\n",
        "  \n",
        "  train_set, test_set,val_set = augmentation(target_size, batch_size, class_mode=\"categorical\")\n",
        "\n",
        "  # freezen the layers\n",
        "  for layer in base_model.layers:\n",
        "      layer.trainable = False\n",
        "\n",
        "  # Add a GlobalAveragePooling layer\n",
        "  x = base_model.output\n",
        "  x = layers.GlobalMaxPooling2D()(x)\n",
        "  x = layers.Dense(1024, activation='relu')(x)\n",
        "  x = layers.Dropout(0.2)(x)\n",
        "  predictions = Dense(class_num, activation='softmax')(x) # ★change\n",
        "\n",
        "  # compile the model\n",
        "  model = Model(inputs=base_model.input, outputs=predictions)\n",
        "  model.compile(\n",
        "    optimizer = optimizer, # ★change\n",
        "    loss='categorical_crossentropy',\n",
        "    metrics=['accuracy']\n",
        "  )\n",
        "\n",
        "  # fit the model\n",
        "  start = perf_counter()\n",
        "  history = model.fit(train_set, epochs = epoch, validation_data = val_set) # ★change # ★change # ★change\n",
        "  end = perf_counter()\n",
        "\n",
        "  # print the learning time\n",
        "  print(f\"Time : {end-start}\")\n",
        "\n",
        "  result_graph(history, model, test_set)\n",
        "\n",
        "  return history, model, test_set"
      ],
      "metadata": {
        "id": "XGIk-9t8BqLj"
      },
      "execution_count": null,
      "outputs": []
    },
    {
      "cell_type": "code",
      "source": [
        "input_tensor = tf.keras.layers.Input(shape=(299, 299, 3))\n",
        "\n",
        "base_model = InceptionV3(weights='imagenet', include_top=False,input_tensor=input_tensor)\n",
        "\n",
        "history, model, test_set = for_Inception_V3(base_model ,  epoch = 50, target_size = 299, batch_size = 16, optimizer = \"\", class_num = 8)         #Adam(lr=0.001)"
      ],
      "metadata": {
        "id": "sN49g3tXoAHx",
        "colab": {
          "base_uri": "https://localhost:8080/",
          "height": 452
        },
        "outputId": "7664aa1e-50e7-4aee-f706-b7052dc09c4c"
      },
      "execution_count": null,
      "outputs": [
        {
          "output_type": "stream",
          "name": "stdout",
          "text": [
            "Found 221 images belonging to 8 classes.\n",
            "Found 73 images belonging to 8 classes.\n",
            "Found 73 images belonging to 8 classes.\n",
            "================================================================================================================\n"
          ]
        },
        {
          "output_type": "error",
          "ename": "ValueError",
          "evalue": "ignored",
          "traceback": [
            "\u001b[0;31m---------------------------------------------------------------------------\u001b[0m",
            "\u001b[0;31mValueError\u001b[0m                                Traceback (most recent call last)",
            "\u001b[0;32m<ipython-input-60-8c9aecca134b>\u001b[0m in \u001b[0;36m<module>\u001b[0;34m\u001b[0m\n\u001b[1;32m      3\u001b[0m \u001b[0mbase_model\u001b[0m \u001b[0;34m=\u001b[0m \u001b[0mInceptionV3\u001b[0m\u001b[0;34m(\u001b[0m\u001b[0mweights\u001b[0m\u001b[0;34m=\u001b[0m\u001b[0;34m'imagenet'\u001b[0m\u001b[0;34m,\u001b[0m \u001b[0minclude_top\u001b[0m\u001b[0;34m=\u001b[0m\u001b[0;32mFalse\u001b[0m\u001b[0;34m,\u001b[0m\u001b[0minput_tensor\u001b[0m\u001b[0;34m=\u001b[0m\u001b[0minput_tensor\u001b[0m\u001b[0;34m)\u001b[0m\u001b[0;34m\u001b[0m\u001b[0;34m\u001b[0m\u001b[0m\n\u001b[1;32m      4\u001b[0m \u001b[0;34m\u001b[0m\u001b[0m\n\u001b[0;32m----> 5\u001b[0;31m \u001b[0mhistory\u001b[0m\u001b[0;34m,\u001b[0m \u001b[0mmodel\u001b[0m\u001b[0;34m,\u001b[0m \u001b[0mtest_set\u001b[0m \u001b[0;34m=\u001b[0m \u001b[0mfor_Inception_V3\u001b[0m\u001b[0;34m(\u001b[0m\u001b[0mbase_model\u001b[0m \u001b[0;34m,\u001b[0m  \u001b[0mepoch\u001b[0m \u001b[0;34m=\u001b[0m \u001b[0;36m50\u001b[0m\u001b[0;34m,\u001b[0m \u001b[0mtarget_size\u001b[0m \u001b[0;34m=\u001b[0m \u001b[0;36m299\u001b[0m\u001b[0;34m,\u001b[0m \u001b[0mbatch_size\u001b[0m \u001b[0;34m=\u001b[0m \u001b[0;36m16\u001b[0m\u001b[0;34m,\u001b[0m \u001b[0moptimizer\u001b[0m \u001b[0;34m=\u001b[0m \u001b[0;34m\"\"\u001b[0m\u001b[0;34m,\u001b[0m \u001b[0mclass_num\u001b[0m \u001b[0;34m=\u001b[0m \u001b[0;36m8\u001b[0m\u001b[0;34m)\u001b[0m         \u001b[0;31m#Adam(lr=0.001)\u001b[0m\u001b[0;34m\u001b[0m\u001b[0;34m\u001b[0m\u001b[0m\n\u001b[0m",
            "\u001b[0;32m<ipython-input-59-03c231c146d5>\u001b[0m in \u001b[0;36mfor_Inception_V3\u001b[0;34m(base_model, epoch, target_size, batch_size, optimizer, class_num)\u001b[0m\n\u001b[1;32m     17\u001b[0m   \u001b[0;31m# compile the model\u001b[0m\u001b[0;34m\u001b[0m\u001b[0;34m\u001b[0m\u001b[0;34m\u001b[0m\u001b[0m\n\u001b[1;32m     18\u001b[0m   \u001b[0mmodel\u001b[0m \u001b[0;34m=\u001b[0m \u001b[0mModel\u001b[0m\u001b[0;34m(\u001b[0m\u001b[0minputs\u001b[0m\u001b[0;34m=\u001b[0m\u001b[0mbase_model\u001b[0m\u001b[0;34m.\u001b[0m\u001b[0minput\u001b[0m\u001b[0;34m,\u001b[0m \u001b[0moutputs\u001b[0m\u001b[0;34m=\u001b[0m\u001b[0mpredictions\u001b[0m\u001b[0;34m)\u001b[0m\u001b[0;34m\u001b[0m\u001b[0;34m\u001b[0m\u001b[0m\n\u001b[0;32m---> 19\u001b[0;31m   model.compile(\n\u001b[0m\u001b[1;32m     20\u001b[0m     \u001b[0moptimizer\u001b[0m \u001b[0;34m=\u001b[0m \u001b[0moptimizer\u001b[0m\u001b[0;34m,\u001b[0m \u001b[0;31m# ★change\u001b[0m\u001b[0;34m\u001b[0m\u001b[0;34m\u001b[0m\u001b[0m\n\u001b[1;32m     21\u001b[0m     \u001b[0mloss\u001b[0m\u001b[0;34m=\u001b[0m\u001b[0;34m'categorical_crossentropy'\u001b[0m\u001b[0;34m,\u001b[0m\u001b[0;34m\u001b[0m\u001b[0;34m\u001b[0m\u001b[0m\n",
            "\u001b[0;32m/usr/local/lib/python3.8/dist-packages/keras/utils/traceback_utils.py\u001b[0m in \u001b[0;36merror_handler\u001b[0;34m(*args, **kwargs)\u001b[0m\n\u001b[1;32m     68\u001b[0m             \u001b[0;31m# To get the full stack trace, call:\u001b[0m\u001b[0;34m\u001b[0m\u001b[0;34m\u001b[0m\u001b[0;34m\u001b[0m\u001b[0m\n\u001b[1;32m     69\u001b[0m             \u001b[0;31m# `tf.debugging.disable_traceback_filtering()`\u001b[0m\u001b[0;34m\u001b[0m\u001b[0;34m\u001b[0m\u001b[0;34m\u001b[0m\u001b[0m\n\u001b[0;32m---> 70\u001b[0;31m             \u001b[0;32mraise\u001b[0m \u001b[0me\u001b[0m\u001b[0;34m.\u001b[0m\u001b[0mwith_traceback\u001b[0m\u001b[0;34m(\u001b[0m\u001b[0mfiltered_tb\u001b[0m\u001b[0;34m)\u001b[0m \u001b[0;32mfrom\u001b[0m \u001b[0;32mNone\u001b[0m\u001b[0;34m\u001b[0m\u001b[0;34m\u001b[0m\u001b[0m\n\u001b[0m\u001b[1;32m     71\u001b[0m         \u001b[0;32mfinally\u001b[0m\u001b[0;34m:\u001b[0m\u001b[0;34m\u001b[0m\u001b[0;34m\u001b[0m\u001b[0m\n\u001b[1;32m     72\u001b[0m             \u001b[0;32mdel\u001b[0m \u001b[0mfiltered_tb\u001b[0m\u001b[0;34m\u001b[0m\u001b[0;34m\u001b[0m\u001b[0m\n",
            "\u001b[0;32m/usr/local/lib/python3.8/dist-packages/keras/saving/legacy/serialization.py\u001b[0m in \u001b[0;36mclass_and_config_for_serialized_keras_object\u001b[0;34m(config, module_objects, custom_objects, printable_module_name)\u001b[0m\n\u001b[1;32m    383\u001b[0m     )\n\u001b[1;32m    384\u001b[0m     \u001b[0;32mif\u001b[0m \u001b[0mcls\u001b[0m \u001b[0;32mis\u001b[0m \u001b[0;32mNone\u001b[0m\u001b[0;34m:\u001b[0m\u001b[0;34m\u001b[0m\u001b[0;34m\u001b[0m\u001b[0m\n\u001b[0;32m--> 385\u001b[0;31m         raise ValueError(\n\u001b[0m\u001b[1;32m    386\u001b[0m             \u001b[0;34mf\"Unknown {printable_module_name}: '{class_name}'. \"\u001b[0m\u001b[0;34m\u001b[0m\u001b[0;34m\u001b[0m\u001b[0m\n\u001b[1;32m    387\u001b[0m             \u001b[0;34m\"Please ensure you are using a `keras.utils.custom_object_scope` \"\u001b[0m\u001b[0;34m\u001b[0m\u001b[0;34m\u001b[0m\u001b[0m\n",
            "\u001b[0;31mValueError\u001b[0m: Unknown optimizer: ''. Please ensure you are using a `keras.utils.custom_object_scope` and that this object is included in the scope. See https://www.tensorflow.org/guide/keras/save_and_serialize#registering_the_custom_object for details."
          ]
        }
      ]
    },
    {
      "cell_type": "code",
      "source": [],
      "metadata": {
        "id": "M7g9JP57A43r"
      },
      "execution_count": null,
      "outputs": []
    },
    {
      "cell_type": "code",
      "source": [],
      "metadata": {
        "id": "1AR1CHjLA4rN"
      },
      "execution_count": null,
      "outputs": []
    },
    {
      "cell_type": "code",
      "source": [],
      "metadata": {
        "id": "Q_pGOOGdA4nv"
      },
      "execution_count": null,
      "outputs": []
    },
    {
      "cell_type": "code",
      "source": [],
      "metadata": {
        "id": "qj0koEToA4lF"
      },
      "execution_count": null,
      "outputs": []
    }
  ],
  "metadata": {
    "accelerator": "TPU",
    "colab": {
      "provenance": [],
      "machine_shape": "hm",
      "authorship_tag": "ABX9TyNTZBbOmnqHM67vURXJz0BN",
      "include_colab_link": true
    },
    "gpuClass": "premium",
    "kernelspec": {
      "display_name": "Python 3",
      "name": "python3"
    },
    "language_info": {
      "name": "python"
    }
  },
  "nbformat": 4,
  "nbformat_minor": 0
}